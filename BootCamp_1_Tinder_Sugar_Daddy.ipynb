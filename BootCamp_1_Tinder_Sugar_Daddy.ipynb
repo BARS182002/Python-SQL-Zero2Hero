{
  "nbformat": 4,
  "nbformat_minor": 0,
  "metadata": {
    "colab": {
      "provenance": [],
      "authorship_tag": "ABX9TyOGiLIT5UjKd68u0PumCSix",
      "include_colab_link": true
    },
    "kernelspec": {
      "name": "python3",
      "display_name": "Python 3"
    },
    "language_info": {
      "name": "python"
    }
  },
  "cells": [
    {
      "cell_type": "markdown",
      "metadata": {
        "id": "view-in-github",
        "colab_type": "text"
      },
      "source": [
        "<a href=\"https://colab.research.google.com/github/BARS182002/Python-SQL-Zero2Hero/blob/main/BootCamp_1_Tinder_Sugar_Daddy.ipynb\" target=\"_parent\"><img src=\"https://colab.research.google.com/assets/colab-badge.svg\" alt=\"Open In Colab\"/></a>"
      ]
    },
    {
      "cell_type": "markdown",
      "source": [
        "#BootCamp Clase 1\n",
        "### Tinder Sugar Daddy"
      ],
      "metadata": {
        "id": "Xel0e3aBGAbZ"
      }
    },
    {
      "cell_type": "code",
      "execution_count": 1,
      "metadata": {
        "id": "BIfk2QC8FZ2F"
      },
      "outputs": [],
      "source": [
        "# VARIABLES\n",
        "name = \"Jonatan\""
      ]
    },
    {
      "cell_type": "code",
      "source": [
        "print (name)"
      ],
      "metadata": {
        "colab": {
          "base_uri": "https://localhost:8080/"
        },
        "id": "3ZWQewzVGlS7",
        "outputId": "9167168a-cd51-4952-872c-3eb249934726"
      },
      "execution_count": 2,
      "outputs": [
        {
          "output_type": "stream",
          "name": "stdout",
          "text": [
            "Jonatan\n"
          ]
        }
      ]
    },
    {
      "cell_type": "code",
      "source": [
        "# Podemos pedir al usuario que ingrese información y esta misma utilizarla como una variable, utilizando \"input\" como se muestra a continuación\n",
        "name = input(\"Name: \")\n",
        "age = input(\"Age: \")"
      ],
      "metadata": {
        "colab": {
          "base_uri": "https://localhost:8080/"
        },
        "id": "lPwanX2PISRF",
        "outputId": "f038f948-ef1c-490c-b309-9fa115970118"
      },
      "execution_count": 3,
      "outputs": [
        {
          "name": "stdout",
          "output_type": "stream",
          "text": [
            "Name: Bruno\n",
            "Age: 23\n"
          ]
        }
      ]
    },
    {
      "cell_type": "code",
      "source": [
        "# Para Concatenar variables, utilizamos \"f\" y se colocan las variables entre llaves {}, por ejemplo:\n",
        "name = input(\"Name: \")\n",
        "age = input(\"Age: \")\n",
        "print(f\"{name} tiene {age} años\")"
      ],
      "metadata": {
        "colab": {
          "base_uri": "https://localhost:8080/"
        },
        "id": "BPjPd0hvJQh-",
        "outputId": "5691f39a-8cbf-456a-b846-c558a8db3792"
      },
      "execution_count": 4,
      "outputs": [
        {
          "output_type": "stream",
          "name": "stdout",
          "text": [
            "Name: Bruno\n",
            "Age: 23\n",
            "Bruno tiene 23 años\n"
          ]
        }
      ]
    }
  ]
}